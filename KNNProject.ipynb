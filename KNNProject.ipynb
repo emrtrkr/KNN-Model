{
 "cells": [
  {
   "cell_type": "markdown",
   "id": "13b96d76-e029-4f32-aab1-a1e3564e31fe",
   "metadata": {},
   "source": [
    "## Installing Required Libraries"
   ]
  },
  {
   "cell_type": "code",
   "execution_count": 8,
   "id": "2f029fbe-2653-46bc-bfb4-1e338e7548bc",
   "metadata": {},
   "outputs": [],
   "source": [
    "import numpy as np\n",
    "import pandas as pd\n",
    "from sklearn.model_selection import train_test_split, GridSearchCV, cross_val_score\n",
    "from sklearn.metrics import mean_squared_error, r2_score\n",
    "import matplotlib.pyplot as plt\n",
    "from sklearn.preprocessing import scale\n",
    "from sklearn import model_selection\n",
    "from sklearn.tree import DecisionTreeRegressor, DecisionTreeClassifier\n",
    "from sklearn.neighbors import KNeighborsRegressor\n",
    "from sklearn.ensemble import BaggingRegressor\n",
    "from warnings import filterwarnings\n",
    "filterwarnings(\"ignore\")"
   ]
  },
  {
   "cell_type": "markdown",
   "id": "917ceecd-c0e1-436a-9b74-a0f094bf357d",
   "metadata": {},
   "source": [
    "## KNN"
   ]
  },
  {
   "cell_type": "code",
   "execution_count": 77,
   "id": "52769c46-d0e0-48cd-a727-14e80f24aded",
   "metadata": {},
   "outputs": [],
   "source": [
    "sick = pd.read_csv(r\"C:\\Users\\MONSTER\\Desktop\\Anemia_Dataset.csv\")\n",
    "df = df.copy()\n",
    "df = df.dropna()\n",
    "y = df[\"Anaemic_Yes\"]\n",
    "x = df.drop(\"Anaemic_Yes\", axis = 1)\n",
    "x_train, x_test, y_train, y_test = train_test_split(x, y, \n",
    "                                                    test_size=0.25, \n",
    "                                                    random_state=42)"
   ]
  },
  {
   "cell_type": "code",
   "execution_count": 79,
   "id": "cab711ce-9e40-4daa-8b9d-ae38d00fd30d",
   "metadata": {},
   "outputs": [],
   "source": [
    "knn_model = KNeighborsRegressor().fit(x_train, y_train)"
   ]
  },
  {
   "cell_type": "code",
   "execution_count": 80,
   "id": "db30e688-7ac5-49ef-bfce-977c7af6afda",
   "metadata": {},
   "outputs": [
    {
     "data": {
      "text/plain": [
       "5"
      ]
     },
     "execution_count": 80,
     "metadata": {},
     "output_type": "execute_result"
    }
   ],
   "source": [
    "knn_model.n_neighbors"
   ]
  },
  {
   "cell_type": "markdown",
   "id": "d6fac751-52dd-4d2d-aeca-ff81f5134884",
   "metadata": {},
   "source": [
    "## Prediction"
   ]
  },
  {
   "cell_type": "code",
   "execution_count": 83,
   "id": "2d226046-a819-4c9e-8338-f31ef6892cb6",
   "metadata": {},
   "outputs": [],
   "source": [
    "y_pred = knn_model.predict(x_test)"
   ]
  },
  {
   "cell_type": "code",
   "execution_count": 84,
   "id": "5fd61659-ad19-43b9-82e3-913084dbf9d1",
   "metadata": {},
   "outputs": [
    {
     "data": {
      "text/plain": [
       "0.30127932350101755"
      ]
     },
     "execution_count": 84,
     "metadata": {},
     "output_type": "execute_result"
    }
   ],
   "source": [
    "np.sqrt(mean_squared_error(y_test, y_pred))"
   ]
  },
  {
   "cell_type": "code",
   "execution_count": 85,
   "id": "cc88db27-782a-4b1b-a263-7805eba41e7d",
   "metadata": {},
   "outputs": [
    {
     "name": "stdout",
     "output_type": "stream",
     "text": [
      "k = 1 için RMSE değeri:  0.0\n",
      "k = 2 için RMSE değeri:  0.09805806756909202\n",
      "k = 3 için RMSE değeri:  0.1307440900921227\n",
      "k = 4 için RMSE değeri:  0.11671244523098157\n",
      "k = 5 için RMSE değeri:  0.12194996872404221\n",
      "k = 6 için RMSE değeri:  0.13476792334377333\n",
      "k = 7 için RMSE değeri:  0.12736511832024697\n",
      "k = 8 için RMSE değeri:  0.1320147136321729\n",
      "k = 9 için RMSE değeri:  0.14009448265691452\n",
      "k = 10 için RMSE değeri:  0.14849674087764367\n"
     ]
    }
   ],
   "source": [
    "RMSE = [] \n",
    "\n",
    "for k in range(10):\n",
    "    k = k+1\n",
    "    knn_model = KNeighborsRegressor(n_neighbors = k).fit(x_train, y_train)\n",
    "    y_pred = knn_model.predict(x_train) \n",
    "    rmse = np.sqrt(mean_squared_error(y_train,y_pred)) \n",
    "    RMSE.append(rmse) \n",
    "    print(\"k =\" , k , \"için RMSE değeri: \", rmse)\n"
   ]
  },
  {
   "cell_type": "markdown",
   "id": "c50a2a71-8d6e-4cba-93a0-ef3216b4c80f",
   "metadata": {},
   "source": [
    "## Model tuning"
   ]
  },
  {
   "cell_type": "code",
   "execution_count": 87,
   "id": "fdde40bc-21da-4619-aa08-66b73c767b90",
   "metadata": {},
   "outputs": [],
   "source": [
    "from sklearn.model_selection import GridSearchCV"
   ]
  },
  {
   "cell_type": "code",
   "execution_count": 88,
   "id": "d43346c5-b49a-4e65-92b0-64eb6dfaeef4",
   "metadata": {},
   "outputs": [],
   "source": [
    "knn_params = {\"n_neighbors\": np.arange(1,20)}"
   ]
  },
  {
   "cell_type": "code",
   "execution_count": 91,
   "id": "953ddb8b-8815-4bdd-8ad2-f21c86dd9e6c",
   "metadata": {},
   "outputs": [],
   "source": [
    "knn = KNeighborsRegressor()"
   ]
  },
  {
   "cell_type": "code",
   "execution_count": 94,
   "id": "bfe84c87-e764-4763-aa54-b66acf77d731",
   "metadata": {},
   "outputs": [],
   "source": [
    "knn_cv_model = GridSearchCV(knn, knn_params, cv = 10)"
   ]
  },
  {
   "cell_type": "code",
   "execution_count": 95,
   "id": "421e896d-66f9-4cb5-8e27-2917318e71e4",
   "metadata": {},
   "outputs": [
    {
     "data": {
      "text/plain": [
       "GridSearchCV(cv=10, estimator=KNeighborsRegressor(),\n",
       "             param_grid={'n_neighbors': array([ 1,  2,  3,  4,  5,  6,  7,  8,  9, 10, 11, 12, 13, 14, 15, 16, 17,\n",
       "       18, 19])})"
      ]
     },
     "execution_count": 95,
     "metadata": {},
     "output_type": "execute_result"
    }
   ],
   "source": [
    "knn_cv_model.fit(x_train, y_train)"
   ]
  },
  {
   "cell_type": "markdown",
   "id": "7ad8b521-57a4-4a9a-b88d-7dd4106634fe",
   "metadata": {},
   "source": [
    "## Here we show the difference between a model improved by cross validation and before validation"
   ]
  },
  {
   "cell_type": "code",
   "execution_count": 127,
   "id": "cb0f775e-c51d-4b33-963e-77a7a9a98a94",
   "metadata": {},
   "outputs": [
    {
     "name": "stdout",
     "output_type": "stream",
     "text": [
      "k = 1 için RMSE değeri:  0.0 RMSE_CV değeri:  0.19364916731037085\n",
      "k = 2 için RMSE değeri:  0.09805806756909202 RMSE_CV değeri:  0.15811388300841897\n",
      "k = 3 için RMSE değeri:  0.1307440900921227 RMSE_CV değeri:  0.1343709624716425\n",
      "k = 4 için RMSE değeri:  0.11671244523098157 RMSE_CV değeri:  0.14252192813739226\n",
      "k = 5 için RMSE değeri:  0.12194996872404221 RMSE_CV değeri:  0.14317821063276354\n",
      "k = 6 için RMSE değeri:  0.13476792334377333 RMSE_CV değeri:  0.13962108586831581\n",
      "k = 7 için RMSE değeri:  0.12736511832024697 RMSE_CV değeri:  0.15343491797005704\n",
      "k = 8 için RMSE değeri:  0.1320147136321729 RMSE_CV değeri:  0.15033444857573872\n",
      "k = 9 için RMSE değeri:  0.14009448265691452 RMSE_CV değeri:  0.1623108042556949\n",
      "k = 10 için RMSE değeri:  0.14849674087764367 RMSE_CV değeri:  0.16871362041721977\n"
     ]
    }
   ],
   "source": [
    "RMSE = [] \n",
    "RMSE_CV = []\n",
    "for k in range(10):\n",
    "    k = k+1\n",
    "    knn_model = KNeighborsRegressor(n_neighbors = k).fit(x_train, y_train)\n",
    "    y_pred = knn_model.predict(x_train) \n",
    "    rmse = np.sqrt(mean_squared_error(y_train,y_pred)) \n",
    "    rmse_cv = np.sqrt(-1*cross_val_score(knn_model, x_train, y_train, cv=10, \n",
    "                                         scoring = \"neg_mean_squared_error\").mean())\n",
    "    RMSE.append(rmse) \n",
    "    RMSE_CV.append(rmse_cv)\n",
    "    print(\"k =\" , k , \"için RMSE değeri: \", rmse, \"RMSE_CV değeri: \", rmse_cv )"
   ]
  },
  {
   "cell_type": "code",
   "execution_count": 104,
   "id": "9a0a8f38-2500-44e2-b647-32a55ce245a6",
   "metadata": {},
   "outputs": [],
   "source": [
    "from sklearn.preprocessing import StandardScaler\n",
    "sc = StandardScaler()"
   ]
  },
  {
   "cell_type": "code",
   "execution_count": 106,
   "id": "734b7570-ebc2-4e01-9ee7-2a20ca5fa52b",
   "metadata": {},
   "outputs": [],
   "source": [
    "x_train1 = sc.fit_transform(x_train)\n",
    "x_test1 = sc.transform(x_test)"
   ]
  },
  {
   "cell_type": "code",
   "execution_count": 122,
   "id": "ae519e9c-4c4e-4c90-ac09-5be1a30dd405",
   "metadata": {},
   "outputs": [],
   "source": [
    "from sklearn.neighbors import KNeighborsClassifier\n",
    "knn = KNeighborsClassifier(n_neighbors = 5)"
   ]
  },
  {
   "cell_type": "code",
   "execution_count": 123,
   "id": "35f19ba8-79d6-40d0-9041-ad8ce743d213",
   "metadata": {},
   "outputs": [
    {
     "data": {
      "text/plain": [
       "KNeighborsClassifier()"
      ]
     },
     "execution_count": 123,
     "metadata": {},
     "output_type": "execute_result"
    }
   ],
   "source": [
    "knn.fit(x_train1, y_train)"
   ]
  },
  {
   "cell_type": "code",
   "execution_count": 124,
   "id": "1766f069-145f-41ba-b97d-de7c84d32e0e",
   "metadata": {},
   "outputs": [],
   "source": [
    "yhead = knn.predict(x_test1)"
   ]
  },
  {
   "cell_type": "code",
   "execution_count": 125,
   "id": "39c2c588-4613-48c3-992e-54cd46d6af3e",
   "metadata": {},
   "outputs": [
    {
     "data": {
      "text/plain": [
       "0.8846153846153846"
      ]
     },
     "execution_count": 125,
     "metadata": {},
     "output_type": "execute_result"
    }
   ],
   "source": [
    "knn.score(x_test1, y_test)"
   ]
  },
  {
   "cell_type": "markdown",
   "id": "e4085d1c-35b2-46fb-85bf-a6b8333c2b64",
   "metadata": {},
   "source": [
    "## Here it is written which values can be obtained if I give which k value"
   ]
  },
  {
   "cell_type": "code",
   "execution_count": 120,
   "id": "c974f391-982f-4b52-9b0a-7007bf3d9021",
   "metadata": {},
   "outputs": [],
   "source": [
    "scoreliste = []\n",
    "for i in range(1,30):\n",
    "    knn2=KNeighborsClassifier(n_neighbors = i)\n",
    "    knn2.fit(x_train1, y_train)\n",
    "    scoreliste.append(knn2.score(x_test1,y_test))"
   ]
  },
  {
   "cell_type": "code",
   "execution_count": 121,
   "id": "af6478c1-546e-4b1b-9f25-9d7ca6e48285",
   "metadata": {},
   "outputs": [
    {
     "data": {
      "image/png": "[encoded data removed]",
      "text/plain": [
       "<Figure size 432x288 with 1 Axes>"
      ]
     },
     "metadata": {
      "needs_background": "light"
     },
     "output_type": "display_data"
    }
   ],
   "source": [
    "plt.plot(range(1,30),scoreliste)\n",
    "plt.xlabel(\"komşu sayısı\")\n",
    "plt.ylabel(\"doğruluk değeri\")\n",
    "plt.show()"
   ]
  },
  {
   "cell_type": "markdown",
   "id": "55938875-f204-4318-87c4-4376636e6395",
   "metadata": {},
   "source": [
    "### Comment:  Values between 10 and 27 are the best values for me."
   ]
  },
  {
   "cell_type": "code",
   "execution_count": null,
   "id": "9428846e-62f5-44b3-9e8c-bdf70491de1a",
   "metadata": {},
   "outputs": [],
   "source": []
  }
 ],
 "metadata": {
  "kernelspec": {
   "display_name": "Python 3 (ipykernel)",
   "language": "python",
   "name": "python3"
  },
  "language_info": {
   "codemirror_mode": {
    "name": "ipython",
    "version": 3
   },
   "file_extension": ".py",
   "mimetype": "text/x-python",
   "name": "python",
   "nbconvert_exporter": "python",
   "pygments_lexer": "ipython3",
   "version": "3.9.12"
  }
 },
 "nbformat": 4,
 "nbformat_minor": 5
}
